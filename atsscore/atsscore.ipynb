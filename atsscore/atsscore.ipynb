{
  "nbformat": 4,
  "nbformat_minor": 0,
  "metadata": {
    "colab": {
      "provenance": []
    },
    "kernelspec": {
      "name": "python3",
      "display_name": "Python 3"
    },
    "language_info": {
      "name": "python"
    }
  },
  "cells": [
    {
      "cell_type": "markdown",
      "source": [
        "ATS SCORE FOR A RESUME TEXT\n",
        "\n"
      ],
      "metadata": {
        "id": "gIJM1vwPSoJg"
      }
    },
    {
      "cell_type": "code",
      "source": [
        "import pandas as pd\n",
        "import re\n",
        "from sklearn.feature_extraction.text import CountVectorizer\n",
        "from sklearn.metrics.pairwise import cosine_similarity"
      ],
      "metadata": {
        "id": "-KAqQt_qO8nZ"
      },
      "execution_count": 4,
      "outputs": []
    },
    {
      "cell_type": "code",
      "source": [
        "def extract_text_from_resume(resume_text):\n",
        "  return re.sub(r'[^\\w\\s]','',resume_text.lower())"
      ],
      "metadata": {
        "id": "9jyWbEABPYPI"
      },
      "execution_count": 5,
      "outputs": []
    },
    {
      "cell_type": "code",
      "source": [
        "def calculate_ats_score(resume_text,job_description):\n",
        "  resume_text=extract_text_from_resume(resume_text)\n",
        "  job_description=extract_text_from_resume(job_description)\n",
        "  vectorizer=CountVectorizer().fit_transform([resume_text,job_description])\n",
        "  similarity=cosine_similarity(vectorizer)[0][1]\n",
        "  score=round(similarity*100,2)\n",
        "  return score"
      ],
      "metadata": {
        "id": "yldc1MFGPyFJ"
      },
      "execution_count": 6,
      "outputs": []
    },
    {
      "cell_type": "code",
      "source": [
        "resume_text = \"Experienced software developer skilled in Python, Java, and machine learning.\"\n",
        "job_description = \"Looking for a software developer with experience in Python, Java, and AI.\"\n",
        "ats_score = calculate_ats_score(resume_text, job_description)\n",
        "print(f\"ATS Score: {ats_score}%\")\n"
      ],
      "metadata": {
        "colab": {
          "base_uri": "https://localhost:8080/"
        },
        "outputId": "0b1abf99-a94e-469c-ff54-961753c36c91",
        "id": "X1dkLzeGQzlI"
      },
      "execution_count": 7,
      "outputs": [
        {
          "output_type": "stream",
          "name": "stdout",
          "text": [
            "ATS Score: 57.21%\n"
          ]
        }
      ]
    },
    {
      "cell_type": "markdown",
      "source": [
        "ATS SCORE FOR A RESUME FILE ( PDF & WORD )"
      ],
      "metadata": {
        "id": "edpKyZn3SzfB"
      }
    },
    {
      "cell_type": "code",
      "source": [
        "!pip install python-docx\n"
      ],
      "metadata": {
        "colab": {
          "base_uri": "https://localhost:8080/"
        },
        "id": "SdObx992UGQY",
        "outputId": "1c41460c-6e8e-4822-d5da-e5064ec1bf83"
      },
      "execution_count": 8,
      "outputs": [
        {
          "output_type": "stream",
          "name": "stdout",
          "text": [
            "Collecting python-docx\n",
            "  Downloading python_docx-1.1.2-py3-none-any.whl.metadata (2.0 kB)\n",
            "Requirement already satisfied: lxml>=3.1.0 in /usr/local/lib/python3.11/dist-packages (from python-docx) (5.4.0)\n",
            "Requirement already satisfied: typing-extensions>=4.9.0 in /usr/local/lib/python3.11/dist-packages (from python-docx) (4.13.2)\n",
            "Downloading python_docx-1.1.2-py3-none-any.whl (244 kB)\n",
            "\u001b[?25l   \u001b[90m━━━━━━━━━━━━━━━━━━━━━━━━━━━━━━━━━━━━━━━━\u001b[0m \u001b[32m0.0/244.3 kB\u001b[0m \u001b[31m?\u001b[0m eta \u001b[36m-:--:--\u001b[0m\r\u001b[2K   \u001b[90m━━━━━━━━━━━━━━━━━━━━━━━━━━━━━━━━━━━━━━━━\u001b[0m \u001b[32m244.3/244.3 kB\u001b[0m \u001b[31m8.6 MB/s\u001b[0m eta \u001b[36m0:00:00\u001b[0m\n",
            "\u001b[?25hInstalling collected packages: python-docx\n",
            "Successfully installed python-docx-1.1.2\n"
          ]
        }
      ]
    },
    {
      "cell_type": "code",
      "source": [
        "!pip install PyPDF2"
      ],
      "metadata": {
        "colab": {
          "base_uri": "https://localhost:8080/"
        },
        "id": "HGfxTaDHXeOi",
        "outputId": "f6467d43-8a87-4a8b-c6f8-30ed795f3e40"
      },
      "execution_count": 9,
      "outputs": [
        {
          "output_type": "stream",
          "name": "stdout",
          "text": [
            "Collecting PyPDF2\n",
            "  Downloading pypdf2-3.0.1-py3-none-any.whl.metadata (6.8 kB)\n",
            "Downloading pypdf2-3.0.1-py3-none-any.whl (232 kB)\n",
            "\u001b[?25l   \u001b[90m━━━━━━━━━━━━━━━━━━━━━━━━━━━━━━━━━━━━━━━━\u001b[0m \u001b[32m0.0/232.6 kB\u001b[0m \u001b[31m?\u001b[0m eta \u001b[36m-:--:--\u001b[0m\r\u001b[2K   \u001b[91m━━━━━━━━━━\u001b[0m\u001b[91m╸\u001b[0m\u001b[90m━━━━━━━━━━━━━━━━━━━━━━━━━━━━━\u001b[0m \u001b[32m61.4/232.6 kB\u001b[0m \u001b[31m4.7 MB/s\u001b[0m eta \u001b[36m0:00:01\u001b[0m\r\u001b[2K   \u001b[91m━━━━━━━━━━━━━━━━━━━\u001b[0m\u001b[90m╺\u001b[0m\u001b[90m━━━━━━━━━━━━━━━━━━━━\u001b[0m \u001b[32m112.6/232.6 kB\u001b[0m \u001b[31m1.5 MB/s\u001b[0m eta \u001b[36m0:00:01\u001b[0m\r\u001b[2K   \u001b[90m━━━━━━━━━━━━━━━━━━━━━━━━━━━━━━━━━━━━━━━━\u001b[0m \u001b[32m232.6/232.6 kB\u001b[0m \u001b[31m2.4 MB/s\u001b[0m eta \u001b[36m0:00:00\u001b[0m\n",
            "\u001b[?25hInstalling collected packages: PyPDF2\n",
            "Successfully installed PyPDF2-3.0.1\n"
          ]
        }
      ]
    },
    {
      "cell_type": "code",
      "source": [
        "import pandas as pd\n",
        "import re\n",
        "from sklearn.feature_extraction.text import CountVectorizer\n",
        "from sklearn.metrics.pairwise import cosine_similarity\n",
        "import PyPDF2\n",
        "import io\n",
        "import docx"
      ],
      "metadata": {
        "id": "wVrnja_IS3_D"
      },
      "execution_count": 10,
      "outputs": []
    },
    {
      "cell_type": "code",
      "source": [
        "def extract_text_from_pdf(pdf_path):\n",
        "  with open(pdf_path, 'rb') as pdf_file:\n",
        "    pdf_reader = PyPDF2.PdfReader(pdf_file)\n",
        "    text = ''\n",
        "    for page_num in range(len(pdf_reader.pages)):\n",
        "      page = pdf_reader.pages[page_num]\n",
        "      text += page.extract_text()\n",
        "  return re.sub(r'[^\\w\\s]', '', text.lower())\n"
      ],
      "metadata": {
        "id": "PY49jKNQXrRw"
      },
      "execution_count": 11,
      "outputs": []
    },
    {
      "cell_type": "code",
      "source": [
        "def extract_text_from_docx(doc_path):\n",
        "  doc=docx.Document(doc_path)\n",
        "  text=''\n",
        "  for para in doc.paragraphs:\n",
        "    text= text+para.text +\"\\n\"\n",
        "  return re.sub(r'[^\\w\\s]','',text.lower())\n"
      ],
      "metadata": {
        "id": "X7_TDc7SUMnO"
      },
      "execution_count": 12,
      "outputs": []
    },
    {
      "cell_type": "code",
      "source": [
        "def calculate_ats_score(resume_text , job_description):\n",
        "  vectorizer=CountVectorizer().fit_transform([resume_text,job_description])\n",
        "  similarity=cosine_similarity(vectorizer)[0][1]\n",
        "  score =round(similarity *100 ,2)\n",
        "  return score"
      ],
      "metadata": {
        "id": "modoiit2Uw6x"
      },
      "execution_count": 16,
      "outputs": []
    },
    {
      "cell_type": "code",
      "source": [
        "resume_path='/content/tanishchavanresume (1).pdf'\n",
        "\n",
        "job_description=\"software developer with python , ml concepts\"\n",
        "resume_text=extract_text_from_pdf(resume_path)\n",
        "\n",
        "ats_score=calculate_ats_score(resume_text ,job_description)\n",
        "\n",
        "print(f'ATS Score from PDF : {ats_score}%')\n"
      ],
      "metadata": {
        "colab": {
          "base_uri": "https://localhost:8080/"
        },
        "id": "z3o1UXsTVPi9",
        "outputId": "44f945ad-891f-47b5-f8a2-83deaf71c637"
      },
      "execution_count": 20,
      "outputs": [
        {
          "output_type": "stream",
          "name": "stdout",
          "text": [
            "ATS Score from PDF : 6.24%\n"
          ]
        }
      ]
    }
  ]
}